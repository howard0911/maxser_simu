{
 "cells": [
  {
   "cell_type": "code",
   "execution_count": 1,
   "metadata": {},
   "outputs": [],
   "source": [
    "import pandas as pd\n",
    "import numpy as np\n",
    "from sklearn.linear_model import Lasso\n",
    "from sklearn.model_selection import train_test_split\n",
    "from sklearn.metrics import mean_squared_error\n",
    "import yfinance as yf \n",
    "from datetime import datetime\n",
    "import matplotlib.pyplot as plt"
   ]
  },
  {
   "cell_type": "code",
   "execution_count": null,
   "metadata": {},
   "outputs": [],
   "source": [
    "from data_gene import GBMsimulator\n",
    "from monte_carlo import mc_simu\n",
    "from price_extractor import select_stock, price_extract, mean_cov  \n",
    "from calculator import calculate_assets_expectedreturns, calculate_assets_covariance\n",
    "\n",
    "## implementation steps(scenario 1)\n",
    "# 1. conduct subpool (option)\n",
    "# 2. estimate the square of maximum sharpe ratio by theta_hat in 2.32, and compute the response r_c_hat in 2.10\n",
    "# 3. select lambda through CV according to 2.5.2, demoted by lambda_hat\n",
    "# 4. set lambda in 2.12 to be lambda_hat and solve for the MAAXSER portfolio omega_hat_star in 2.12\n",
    "# compare with benchmark portfolio "
   ]
  },
  {
   "cell_type": "code",
   "execution_count": null,
   "metadata": {},
   "outputs": [],
   "source": [
    "if __name__ == '__main__':\n",
    "\n",
    "    # Parameters settings\n",
    "    sigma = 0.04 # variance constraint\n",
    "    T = 120 # sample size\n",
    "    replica = 1000 # replication times\n",
    "    # theoratical maximum SR = 1.882\n",
    "    N = 50 # num of stocks\n",
    "    n_stocks_available = 500\n",
    "\n",
    "    #1. Get companies\n",
    "    #companies = select_stock((n_stocks_available, N))\n",
    "\n",
    "    #2. Get company stock prices\n",
    "    #price = price_extract()\n",
    "\n",
    "    #3. Calculate Daily Returns, and Expected Mean Return & Covariance\n",
    "    #meanReturns, covMatrix = mean_cov()\n",
    "    # Trivial Example: Define historical returns of the six stocks\n",
    "    returns = pd.DataFrame({\n",
    "        'AAPL': [0.01, 0.02, -0.03, 0.04, 0.01, -0.02],\n",
    "        'GOOG': [0.02, 0.03, -0.1, 0.05, 0.03, -0.01],\n",
    "        'AMZN': [0.03, 0.01, -0.01, 0.04, 0.02, -0.03],\n",
    "        'FB': [0.02, 0.03, -0.01, 0.06, 0.04, -0.02],\n",
    "        'NFLX': [0.04, 0.05, -0.02, 0.08, 0.02, -0.01],\n",
    "        'MSFT': [0.01, 0.03, -0.01, 0.05, 0.02, -0.01]\n",
    "    })\n",
    "    meanReturns = calculate_assets_expectedreturns(returns)\n",
    "    covMatrix = calculate_assets_covariance(returns)\n",
    " \n",
    "    #4. Use Monte Carlo Simulation\n",
    "    # Generate portfolios with allocations\n",
    "    # num of simulations\n",
    "    mc_sims = 100\n",
    "    #T = 100 # timeframe in days\n",
    "    initialPortfolio = 10000\n",
    "    portfolios_allocations_df = mc_simu(meanReturns, covMatrix, mc_sims, T, initialPortfolio)\n",
    "    meanReturns = calculate_assets_expectedreturns(portfolios_allocations_df)        \n",
    "    covMatrix = calculate_assets_covariance(portfolios_allocations_df)\n",
    "\n",
    "    #6. conduct subpool(optional)\n",
    "\n",
    "    #7. estimate the square of maximum sharpe ratio theta_hat 2.32\n",
    "    temp = np.dot(np.transpose(np.array(meanReturns)), np.linalg.inv(np.array(covMatrix)))\n",
    "    theta_s = np.dot(temp, np.array(meanReturns))\n",
    "    theta_adj_hat = ((T-N-2)*theta_s-N)/T  #+ (2*theta_s**(N/2)*(1+theta_s)**(-(T-2)/2))/(T*B)\n",
    "\n",
    "    #8. compute r_c\n",
    "    r_c = sigma*(1+theta_adj_hat)/np.sqrt(theta_adj_hat)\n",
    "\n",
    "    #9. CV for select lambda_hat\n",
    "\n",
    "    print(r_c)\n",
    "\n",
    "    #10. solve w_hat for MAXSER"
   ]
  }
 ],
 "metadata": {
  "kernelspec": {
   "display_name": "Python 3",
   "language": "python",
   "name": "python3"
  },
  "language_info": {
   "codemirror_mode": {
    "name": "ipython",
    "version": 3
   },
   "file_extension": ".py",
   "mimetype": "text/x-python",
   "name": "python",
   "nbconvert_exporter": "python",
   "pygments_lexer": "ipython3",
   "version": "3.8.5"
  }
 },
 "nbformat": 4,
 "nbformat_minor": 4
}
