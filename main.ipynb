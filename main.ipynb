{
 "cells": [
  {
   "cell_type": "markdown",
   "metadata": {},
   "source": [
    "# Implementation of MAXSER"
   ]
  },
  {
   "cell_type": "markdown",
   "metadata": {},
   "source": [
    "### implementation steps(scenario 1)\n",
    "##### 1. conduct subpool (optional)\n",
    "##### 2. estimate the square of maximum sharpe ratio by theta_hat in 2.32, and compute the response $\\hat{r_c}$ in 2.10\n",
    "##### 3. select lambda through CV according to 2.5.1, demoted by $\\hat{\\lambda}$\n",
    "##### 4. set $\\lambda$ in 2.12 to be $\\hat{\\lambda}$ and solve for the MAXSER portfolio $\\hat{\\omega^*}$ in 2.12\n",
    "##### 5. compare with benchmark portfolio "
   ]
  },
  {
   "cell_type": "markdown",
   "metadata": {},
   "source": [
    "### Libraries"
   ]
  },
  {
   "cell_type": "code",
   "execution_count": 2,
   "metadata": {},
   "outputs": [],
   "source": [
    "import pandas as pd\n",
    "import numpy as np\n",
    "from sklearn.linear_model import Lasso\n",
    "from sklearn.model_selection import train_test_split\n",
    "from sklearn.metrics import mean_squared_error\n",
    "import yfinance as yf \n",
    "from datetime import datetime\n",
    "import matplotlib.pyplot as plt\n",
    "import scipy.special as sc\n",
    "from functools import reduce"
   ]
  },
  {
   "cell_type": "markdown",
   "metadata": {},
   "source": [
    "##### Some usedul functions"
   ]
  },
  {
   "cell_type": "code",
   "execution_count": 4,
   "metadata": {},
   "outputs": [],
   "source": [
    "def calculate_sharpe_ratio(risk, returns, risk_free_rate):\n",
    "    return (returns-risk_free_rate)/risk\n",
    "\n",
    "def get_max_sharpe_ratio(df):\n",
    "    return df.ix[df['SharpeRatio'].astype(float).idxmax()]\n",
    "\n",
    "def get_min_risk(df):\n",
    "    return df.ix[df['Risk'].astype(float).idxmin()]\n",
    "\n",
    "def calculate_assets_expectedreturns(returns):        \n",
    "    return returns.mean() * 252\n",
    "\n",
    "def calculate_assets_covariance(returns):        \n",
    "    return returns.cov() * 252\n",
    "    \n",
    "def calculate_portfolio_risk(allocations, cov):\n",
    "    return np.sqrt(reduce(np.dot, [allocations, cov, allocations.T]))\n",
    "\n",
    "def get_portfolio_return(weights, returns):\n",
    "    return np.sum(weights * returns)\n",
    "\n",
    "def get_portfolio_volatility(weights, cov_matrix):\n",
    "    return np.sqrt(np.dot(weights.T, np.dot(cov_matrix, weights)))\n",
    "\n",
    "def get_portfolio_sharpe_ratio(weights, returns, cov_matrix, risk_free_rate):\n",
    "    portfolio_return = get_portfolio_return(weights, returns)\n",
    "    portfolio_volatility = get_portfolio_volatility(weights, cov_matrix)\n",
    "    sharpe_ratio = (portfolio_return - risk_free_rate) / portfolio_volatility\n",
    "    return -sharpe_ratio\n",
    "\n",
    "def select_stock(n_stocks_available, n_stocks):\n",
    "    np.random.seed(1345) \n",
    "    x = np.random.choice(n_stocks_available, n_stocks)\n",
    "    return x"
   ]
  },
  {
   "cell_type": "code",
   "execution_count": 5,
   "metadata": {},
   "outputs": [],
   "source": [
    "def mc_simu(meanReturns, covMatrix, mc_sims, T, initialPortfolio):\n",
    "    weights = np.random.random(len(meanReturns))\n",
    "    weights /= np.sum(weights)\n",
    "    \n",
    "    meanM = np.full(shape=(T, len(weights)), fill_value=meanReturns)\n",
    "    meanM = meanM.T\n",
    "\n",
    "    portfolio_sims = np.full(shape=(T, mc_sims), fill_value=0.0)\n",
    "\n",
    "    for m in range(0, mc_sims):\n",
    "        # mc loops\n",
    "        Z = np.random.normal(size=(T, len(weights)))\n",
    "        L = np.linalg.cholesky(covMatrix)\n",
    "        dailyReturns = meanM + np.inner(L, Z)\n",
    "        portfolio_sims[:,m] = np.cumprod(np.inner(weights, dailyReturns.T)+1)*initialPortfolio\n",
    "\n",
    "    portfolio_sims = pd.DataFrame(portfolio_sims)\n",
    "    return portfolio_sims"
   ]
  },
  {
   "cell_type": "markdown",
   "metadata": {},
   "source": [
    "### My approach\n",
    "#### 1. Get companies\n",
    "#### 2. Get company stock prices\n",
    "#### 3. Calculate Daily Returns, and Expected Mean Return & Covariance\n",
    "#### 4. Use Monte Carlo Simulation with expected Mean Return & Covariance\n",
    "#### 5. Estimate the square of maximum sharpe ratio $\\hat{\\theta_{adj}}$ 2.32\n",
    "#### 6. compute $\\hat{r_c}$\n",
    "#### 7. CV for select $\\hat{\\lambda}$ 2.5.1\n",
    "#### 8. solve $\\hat{\\omega}$ for MAXSER in 2.12"
   ]
  },
  {
   "cell_type": "markdown",
   "metadata": {},
   "source": [
    "### 1. Get companies 2. Get company stock prices\n",
    "I randomly select 100 stocks from S&P 500. From 2007-01-01 to 2016-12-31."
   ]
  },
  {
   "cell_type": "code",
   "execution_count": 6,
   "metadata": {},
   "outputs": [],
   "source": [
    "start_date = \"2007-01-01\"\n",
    "end_date = \"2016-12-31\"\n",
    "sp500_tickers = ['AAPL', 'MSFT', 'AMZN', 'GOOGL', 'META', 'TSLA', 'JPM', 'JNJ', 'V', 'PG',\n",
    "                 'MA', 'NVDA', 'UNH', 'HD', 'VZ', 'DIS', 'PYPL', 'CMCSA', 'BAC', 'CSCO',\n",
    "                 'INTC', 'T', 'PFE', 'ORCL', 'KO', 'MRK', 'XOM', 'NFLX', 'WMT', 'MCD',\n",
    "                 'BA', 'TMO', 'CAT', 'ADBE', 'ABBV', 'NKE', 'CRM', 'PEP', 'GS', 'CVX',\n",
    "                 'PM', 'UPS', 'COST', 'C', 'ABT', 'WFC', 'ACN', 'QCOM', 'AMGN', 'TXN',\n",
    "                 'NEE', 'DHR', 'SO', 'ADP', 'HON', 'TMO', 'LMT', 'RTX', 'MO', 'MDT',\n",
    "                 'AMAT', 'CME', 'GD', 'BKNG', 'CSX', 'BIIB', 'COF', 'CVS', 'STZ', 'AXP',\n",
    "                 'GM', 'LRCX', 'MU', 'MMM', 'USB', 'FDX', 'ISRG', 'CCI', 'EQIX', 'CSX',\n",
    "                 'SO', 'ADP', 'HON', 'TMO', 'LMT', 'RTX', 'MO', 'MDT', 'AMAT', 'CME',\n",
    "                 'GD', 'BKNG', 'CSX', 'BIIB', 'COF', 'CVS', 'STZ', 'AXP', 'GM', 'LRCX']\n",
    "stock_data = {}  # Create a dictionary to store data for each stock"
   ]
  },
  {
   "cell_type": "code",
   "execution_count": 7,
   "metadata": {
    "scrolled": true
   },
   "outputs": [
    {
     "name": "stdout",
     "output_type": "stream",
     "text": [
      "[*********************100%%**********************]  1 of 1 completed\n",
      "[*********************100%%**********************]  1 of 1 completed\n",
      "[*********************100%%**********************]  1 of 1 completed\n",
      "[*********************100%%**********************]  1 of 1 completed\n",
      "[*********************100%%**********************]  1 of 1 completed\n",
      "[*********************100%%**********************]  1 of 1 completed\n",
      "[*********************100%%**********************]  1 of 1 completed\n",
      "[*********************100%%**********************]  1 of 1 completed\n",
      "[*********************100%%**********************]  1 of 1 completed\n",
      "[*********************100%%**********************]  1 of 1 completed\n",
      "[*********************100%%**********************]  1 of 1 completed\n",
      "[*********************100%%**********************]  1 of 1 completed\n",
      "[*********************100%%**********************]  1 of 1 completed\n",
      "[*********************100%%**********************]  1 of 1 completed\n",
      "[*********************100%%**********************]  1 of 1 completed\n",
      "[*********************100%%**********************]  1 of 1 completed\n",
      "[*********************100%%**********************]  1 of 1 completed\n",
      "[*********************100%%**********************]  1 of 1 completed\n",
      "[*********************100%%**********************]  1 of 1 completed\n",
      "[*********************100%%**********************]  1 of 1 completed\n",
      "[*********************100%%**********************]  1 of 1 completed\n",
      "[*********************100%%**********************]  1 of 1 completed\n",
      "[*********************100%%**********************]  1 of 1 completed\n",
      "[*********************100%%**********************]  1 of 1 completed\n",
      "[*********************100%%**********************]  1 of 1 completed\n",
      "[*********************100%%**********************]  1 of 1 completed\n",
      "[*********************100%%**********************]  1 of 1 completed\n",
      "[*********************100%%**********************]  1 of 1 completed\n",
      "[*********************100%%**********************]  1 of 1 completed\n",
      "[*********************100%%**********************]  1 of 1 completed\n",
      "[*********************100%%**********************]  1 of 1 completed\n",
      "[*********************100%%**********************]  1 of 1 completed\n",
      "[*********************100%%**********************]  1 of 1 completed\n",
      "[*********************100%%**********************]  1 of 1 completed\n",
      "[*********************100%%**********************]  1 of 1 completed\n",
      "[*********************100%%**********************]  1 of 1 completed\n",
      "[*********************100%%**********************]  1 of 1 completed\n",
      "[*********************100%%**********************]  1 of 1 completed\n",
      "[*********************100%%**********************]  1 of 1 completed\n",
      "[*********************100%%**********************]  1 of 1 completed\n",
      "[*********************100%%**********************]  1 of 1 completed\n",
      "[*********************100%%**********************]  1 of 1 completed\n",
      "[*********************100%%**********************]  1 of 1 completed\n",
      "[*********************100%%**********************]  1 of 1 completed\n",
      "[*********************100%%**********************]  1 of 1 completed\n",
      "[*********************100%%**********************]  1 of 1 completed\n",
      "[*********************100%%**********************]  1 of 1 completed\n",
      "[*********************100%%**********************]  1 of 1 completed\n",
      "[*********************100%%**********************]  1 of 1 completed\n",
      "[*********************100%%**********************]  1 of 1 completed\n",
      "[*********************100%%**********************]  1 of 1 completed\n",
      "[*********************100%%**********************]  1 of 1 completed\n",
      "[*********************100%%**********************]  1 of 1 completed\n",
      "[*********************100%%**********************]  1 of 1 completed\n",
      "[*********************100%%**********************]  1 of 1 completed\n",
      "[*********************100%%**********************]  1 of 1 completed\n",
      "[*********************100%%**********************]  1 of 1 completed\n",
      "[*********************100%%**********************]  1 of 1 completed\n",
      "[*********************100%%**********************]  1 of 1 completed\n",
      "[*********************100%%**********************]  1 of 1 completed\n",
      "[*********************100%%**********************]  1 of 1 completed\n",
      "[*********************100%%**********************]  1 of 1 completed\n",
      "[*********************100%%**********************]  1 of 1 completed\n",
      "[*********************100%%**********************]  1 of 1 completed\n",
      "[*********************100%%**********************]  1 of 1 completed\n",
      "[*********************100%%**********************]  1 of 1 completed\n",
      "[*********************100%%**********************]  1 of 1 completed\n",
      "[*********************100%%**********************]  1 of 1 completed\n",
      "[*********************100%%**********************]  1 of 1 completed\n",
      "[*********************100%%**********************]  1 of 1 completed\n",
      "[*********************100%%**********************]  1 of 1 completed\n",
      "[*********************100%%**********************]  1 of 1 completed\n",
      "[*********************100%%**********************]  1 of 1 completed\n",
      "[*********************100%%**********************]  1 of 1 completed\n",
      "[*********************100%%**********************]  1 of 1 completed\n",
      "[*********************100%%**********************]  1 of 1 completed\n",
      "[*********************100%%**********************]  1 of 1 completed\n",
      "[*********************100%%**********************]  1 of 1 completed\n",
      "[*********************100%%**********************]  1 of 1 completed\n",
      "[*********************100%%**********************]  1 of 1 completed\n",
      "[*********************100%%**********************]  1 of 1 completed\n",
      "[*********************100%%**********************]  1 of 1 completed\n",
      "[*********************100%%**********************]  1 of 1 completed\n",
      "[*********************100%%**********************]  1 of 1 completed\n",
      "[*********************100%%**********************]  1 of 1 completed\n",
      "[*********************100%%**********************]  1 of 1 completed\n",
      "[*********************100%%**********************]  1 of 1 completed\n",
      "[*********************100%%**********************]  1 of 1 completed\n",
      "[*********************100%%**********************]  1 of 1 completed\n",
      "[*********************100%%**********************]  1 of 1 completed\n",
      "[*********************100%%**********************]  1 of 1 completed\n",
      "[*********************100%%**********************]  1 of 1 completed\n",
      "[*********************100%%**********************]  1 of 1 completed\n",
      "[*********************100%%**********************]  1 of 1 completed\n",
      "[*********************100%%**********************]  1 of 1 completed\n",
      "[*********************100%%**********************]  1 of 1 completed\n",
      "[*********************100%%**********************]  1 of 1 completed\n",
      "[*********************100%%**********************]  1 of 1 completed\n",
      "[*********************100%%**********************]  1 of 1 completed\n",
      "[*********************100%%**********************]  1 of 1 completed\n"
     ]
    }
   ],
   "source": [
    "for ticker in sp500_tickers:\n",
    "    stock_data[ticker] = yf.download(ticker, start=start_date, end=end_date)"
   ]
  },
  {
   "cell_type": "code",
   "execution_count": 10,
   "metadata": {},
   "outputs": [],
   "source": [
    "for ticker, data in stock_data.items():\n",
    "    data['daily_return'] = data['Adj Close'].pct_change()"
   ]
  },
  {
   "cell_type": "markdown",
   "metadata": {},
   "source": [
    "### 3. Calculate Daily Returns, and Expected Mean Return & Covariance"
   ]
  },
  {
   "cell_type": "code",
   "execution_count": 11,
   "metadata": {},
   "outputs": [],
   "source": [
    "returns = np.array(pd.DataFrame(stock_data[ticker]['daily_return'][1:] for ticker in stock_data.keys()))\n",
    "returns[np.isnan(returns)] = 0"
   ]
  },
  {
   "cell_type": "code",
   "execution_count": 12,
   "metadata": {},
   "outputs": [],
   "source": [
    "mean = np.mean(returns, axis=1) \n",
    "cov = np.cov(returns) "
   ]
  },
  {
   "cell_type": "markdown",
   "metadata": {},
   "source": [
    "### 4. Use Monte Carlo Simulation"
   ]
  },
  {
   "cell_type": "code",
   "execution_count": 101,
   "metadata": {},
   "outputs": [],
   "source": [
    "mc_sims = 10\n",
    "T = 120 # timeframe in days\n",
    "initialPortfolio = 1000\n",
    "N = len(mean)"
   ]
  },
  {
   "cell_type": "code",
   "execution_count": 102,
   "metadata": {},
   "outputs": [],
   "source": [
    "portfolios_allocations_df = mc_simu(mean, cov, mc_sims, T, initialPortfolio)"
   ]
  },
  {
   "cell_type": "code",
   "execution_count": 103,
   "metadata": {},
   "outputs": [
    {
     "data": {
      "image/png": "[encoded data removed]",
      "text/plain": [
       "<Figure size 432x288 with 1 Axes>"
      ]
     },
     "metadata": {
      "needs_background": "light"
     },
     "output_type": "display_data"
    }
   ],
   "source": [
    "plt.plot(portfolios_allocations_df)\n",
    "plt.ylabel('Portfolio Value ($)')\n",
    "plt.xlabel('Days')\n",
    "plt.title('MC simulations of a stock portfolio')\n",
    "plt.show()"
   ]
  },
  {
   "cell_type": "code",
   "execution_count": 104,
   "metadata": {},
   "outputs": [],
   "source": [
    "meanReturns = portfolios_allocations_df.pct_change().mean() \n",
    "covMatrix = portfolios_allocations_df.pct_change().cov() "
   ]
  },
  {
   "cell_type": "code",
   "execution_count": 105,
   "metadata": {},
   "outputs": [
    {
     "data": {
      "text/html": [
       "<div>\n",
       "<style scoped>\n",
       "    .dataframe tbody tr th:only-of-type {\n",
       "        vertical-align: middle;\n",
       "    }\n",
       "\n",
       "    .dataframe tbody tr th {\n",
       "        vertical-align: top;\n",
       "    }\n",
       "\n",
       "    .dataframe thead th {\n",
       "        text-align: right;\n",
       "    }\n",
       "</style>\n",
       "<table border=\"1\" class=\"dataframe\">\n",
       "  <thead>\n",
       "    <tr style=\"text-align: right;\">\n",
       "      <th></th>\n",
       "      <th>0</th>\n",
       "      <th>1</th>\n",
       "      <th>2</th>\n",
       "      <th>3</th>\n",
       "      <th>4</th>\n",
       "      <th>5</th>\n",
       "      <th>6</th>\n",
       "      <th>7</th>\n",
       "      <th>8</th>\n",
       "      <th>9</th>\n",
       "    </tr>\n",
       "  </thead>\n",
       "  <tbody>\n",
       "    <tr>\n",
       "      <th>0</th>\n",
       "      <td>NaN</td>\n",
       "      <td>NaN</td>\n",
       "      <td>NaN</td>\n",
       "      <td>NaN</td>\n",
       "      <td>NaN</td>\n",
       "      <td>NaN</td>\n",
       "      <td>NaN</td>\n",
       "      <td>NaN</td>\n",
       "      <td>NaN</td>\n",
       "      <td>NaN</td>\n",
       "    </tr>\n",
       "    <tr>\n",
       "      <th>1</th>\n",
       "      <td>0.025302</td>\n",
       "      <td>0.000249</td>\n",
       "      <td>-0.006492</td>\n",
       "      <td>0.002190</td>\n",
       "      <td>-0.015044</td>\n",
       "      <td>-0.005355</td>\n",
       "      <td>-0.007822</td>\n",
       "      <td>0.009574</td>\n",
       "      <td>-0.000021</td>\n",
       "      <td>0.006943</td>\n",
       "    </tr>\n",
       "    <tr>\n",
       "      <th>2</th>\n",
       "      <td>-0.003376</td>\n",
       "      <td>0.008373</td>\n",
       "      <td>-0.011664</td>\n",
       "      <td>-0.010433</td>\n",
       "      <td>0.016396</td>\n",
       "      <td>-0.014193</td>\n",
       "      <td>-0.001532</td>\n",
       "      <td>0.013971</td>\n",
       "      <td>-0.000983</td>\n",
       "      <td>-0.012757</td>\n",
       "    </tr>\n",
       "    <tr>\n",
       "      <th>3</th>\n",
       "      <td>-0.005176</td>\n",
       "      <td>0.029145</td>\n",
       "      <td>-0.006609</td>\n",
       "      <td>-0.000130</td>\n",
       "      <td>0.007368</td>\n",
       "      <td>0.006063</td>\n",
       "      <td>-0.015202</td>\n",
       "      <td>0.005691</td>\n",
       "      <td>0.002628</td>\n",
       "      <td>0.001604</td>\n",
       "    </tr>\n",
       "    <tr>\n",
       "      <th>4</th>\n",
       "      <td>0.005300</td>\n",
       "      <td>-0.017946</td>\n",
       "      <td>0.017948</td>\n",
       "      <td>0.010323</td>\n",
       "      <td>0.021768</td>\n",
       "      <td>0.014070</td>\n",
       "      <td>-0.022298</td>\n",
       "      <td>0.009325</td>\n",
       "      <td>0.010924</td>\n",
       "      <td>0.013988</td>\n",
       "    </tr>\n",
       "    <tr>\n",
       "      <th>...</th>\n",
       "      <td>...</td>\n",
       "      <td>...</td>\n",
       "      <td>...</td>\n",
       "      <td>...</td>\n",
       "      <td>...</td>\n",
       "      <td>...</td>\n",
       "      <td>...</td>\n",
       "      <td>...</td>\n",
       "      <td>...</td>\n",
       "      <td>...</td>\n",
       "    </tr>\n",
       "    <tr>\n",
       "      <th>115</th>\n",
       "      <td>0.017623</td>\n",
       "      <td>0.011128</td>\n",
       "      <td>0.004659</td>\n",
       "      <td>-0.003171</td>\n",
       "      <td>0.015806</td>\n",
       "      <td>-0.043432</td>\n",
       "      <td>-0.000933</td>\n",
       "      <td>0.047216</td>\n",
       "      <td>-0.003541</td>\n",
       "      <td>0.025481</td>\n",
       "    </tr>\n",
       "    <tr>\n",
       "      <th>116</th>\n",
       "      <td>-0.016631</td>\n",
       "      <td>-0.006886</td>\n",
       "      <td>0.006504</td>\n",
       "      <td>-0.021583</td>\n",
       "      <td>0.001085</td>\n",
       "      <td>-0.022093</td>\n",
       "      <td>-0.009417</td>\n",
       "      <td>0.008350</td>\n",
       "      <td>0.020005</td>\n",
       "      <td>0.030497</td>\n",
       "    </tr>\n",
       "    <tr>\n",
       "      <th>117</th>\n",
       "      <td>0.005770</td>\n",
       "      <td>0.007339</td>\n",
       "      <td>0.004230</td>\n",
       "      <td>0.019266</td>\n",
       "      <td>-0.002719</td>\n",
       "      <td>-0.012676</td>\n",
       "      <td>0.002911</td>\n",
       "      <td>0.004569</td>\n",
       "      <td>-0.012161</td>\n",
       "      <td>0.010059</td>\n",
       "    </tr>\n",
       "    <tr>\n",
       "      <th>118</th>\n",
       "      <td>0.014560</td>\n",
       "      <td>0.010750</td>\n",
       "      <td>-0.002702</td>\n",
       "      <td>-0.009902</td>\n",
       "      <td>0.014635</td>\n",
       "      <td>-0.005847</td>\n",
       "      <td>0.005772</td>\n",
       "      <td>-0.013426</td>\n",
       "      <td>-0.002586</td>\n",
       "      <td>-0.002492</td>\n",
       "    </tr>\n",
       "    <tr>\n",
       "      <th>119</th>\n",
       "      <td>-0.000660</td>\n",
       "      <td>-0.011889</td>\n",
       "      <td>0.011269</td>\n",
       "      <td>0.013940</td>\n",
       "      <td>0.013707</td>\n",
       "      <td>-0.013337</td>\n",
       "      <td>-0.013514</td>\n",
       "      <td>0.009425</td>\n",
       "      <td>0.011770</td>\n",
       "      <td>-0.004933</td>\n",
       "    </tr>\n",
       "  </tbody>\n",
       "</table>\n",
       "<p>120 rows × 10 columns</p>\n",
       "</div>"
      ],
      "text/plain": [
       "            0         1         2         3         4         5         6  \\\n",
       "0         NaN       NaN       NaN       NaN       NaN       NaN       NaN   \n",
       "1    0.025302  0.000249 -0.006492  0.002190 -0.015044 -0.005355 -0.007822   \n",
       "2   -0.003376  0.008373 -0.011664 -0.010433  0.016396 -0.014193 -0.001532   \n",
       "3   -0.005176  0.029145 -0.006609 -0.000130  0.007368  0.006063 -0.015202   \n",
       "4    0.005300 -0.017946  0.017948  0.010323  0.021768  0.014070 -0.022298   \n",
       "..        ...       ...       ...       ...       ...       ...       ...   \n",
       "115  0.017623  0.011128  0.004659 -0.003171  0.015806 -0.043432 -0.000933   \n",
       "116 -0.016631 -0.006886  0.006504 -0.021583  0.001085 -0.022093 -0.009417   \n",
       "117  0.005770  0.007339  0.004230  0.019266 -0.002719 -0.012676  0.002911   \n",
       "118  0.014560  0.010750 -0.002702 -0.009902  0.014635 -0.005847  0.005772   \n",
       "119 -0.000660 -0.011889  0.011269  0.013940  0.013707 -0.013337 -0.013514   \n",
       "\n",
       "            7         8         9  \n",
       "0         NaN       NaN       NaN  \n",
       "1    0.009574 -0.000021  0.006943  \n",
       "2    0.013971 -0.000983 -0.012757  \n",
       "3    0.005691  0.002628  0.001604  \n",
       "4    0.009325  0.010924  0.013988  \n",
       "..        ...       ...       ...  \n",
       "115  0.047216 -0.003541  0.025481  \n",
       "116  0.008350  0.020005  0.030497  \n",
       "117  0.004569 -0.012161  0.010059  \n",
       "118 -0.013426 -0.002586 -0.002492  \n",
       "119  0.009425  0.011770 -0.004933  \n",
       "\n",
       "[120 rows x 10 columns]"
      ]
     },
     "execution_count": 105,
     "metadata": {},
     "output_type": "execute_result"
    }
   ],
   "source": [
    "portfolios_allocations_df.pct_change()"
   ]
  },
  {
   "cell_type": "markdown",
   "metadata": {},
   "source": [
    "### 5. Estimate the square of maximum sharpe ratio $\\hat{\\theta_{adj}}$ 2.32"
   ]
  },
  {
   "cell_type": "code",
   "execution_count": 106,
   "metadata": {},
   "outputs": [],
   "source": [
    "temp = np.dot(meanReturns, np.linalg.inv(covMatrix))"
   ]
  },
  {
   "cell_type": "code",
   "execution_count": 107,
   "metadata": {},
   "outputs": [],
   "source": [
    "theta_s = np.dot(temp, meanReturns)"
   ]
  },
  {
   "cell_type": "code",
   "execution_count": 109,
   "metadata": {},
   "outputs": [],
   "source": [
    "beta = sc.betainc(N/2,(T-N)/2, theta_s/(1+theta_s))*sc.gamma(N/2)*sc.gamma((T-N)/2)/sc.gamma(T/2)"
   ]
  },
  {
   "cell_type": "code",
   "execution_count": 110,
   "metadata": {},
   "outputs": [],
   "source": [
    "theta_adj_hat = ((T-N-2)*theta_s-N)/T + (2*theta_s**(N/2)*(1+theta_s)**(-(T-2)/2))/(T*beta)"
   ]
  },
  {
   "cell_type": "code",
   "execution_count": 111,
   "metadata": {},
   "outputs": [
    {
     "data": {
      "text/plain": [
       "0.0011738310867599466"
      ]
     },
     "execution_count": 111,
     "metadata": {},
     "output_type": "execute_result"
    }
   ],
   "source": [
    "theta_adj_hat"
   ]
  },
  {
   "cell_type": "markdown",
   "metadata": {},
   "source": [
    "### 6. compute $\\hat{r_c}$"
   ]
  },
  {
   "cell_type": "code",
   "execution_count": 112,
   "metadata": {},
   "outputs": [],
   "source": [
    "sigma = 0.04"
   ]
  },
  {
   "cell_type": "code",
   "execution_count": 113,
   "metadata": {},
   "outputs": [
    {
     "name": "stdout",
     "output_type": "stream",
     "text": [
      "1.168871251666118\n"
     ]
    }
   ],
   "source": [
    "r_c = sigma*(1+theta_adj_hat)/np.sqrt(theta_adj_hat)\n",
    "print(r_c)"
   ]
  },
  {
   "cell_type": "markdown",
   "metadata": {},
   "source": [
    "### 7. CV for select $\\hat{\\lambda}$ 2.5.1"
   ]
  },
  {
   "cell_type": "code",
   "execution_count": null,
   "metadata": {},
   "outputs": [],
   "source": []
  },
  {
   "cell_type": "markdown",
   "metadata": {},
   "source": [
    "### 8. solve $\\hat{\\omega}$ for MAXSER in 2.12¶"
   ]
  },
  {
   "cell_type": "code",
   "execution_count": null,
   "metadata": {},
   "outputs": [],
   "source": []
  },
  {
   "cell_type": "markdown",
   "metadata": {},
   "source": [
    "### implementation steps(scenario 2)\n",
    "##### 1. conduct subpool (optional)\n",
    "##### 2. Perform OLS regressions of asset returns on factor returns to obtain $\\hat{\\beta}$ and $\\hat{U}$ \n",
    "##### 3. Compute the estimates of the square of the maximum Sharpe ratios $\\hat{\\theta_f}$ , $\\hat{\\theta_{all,adj}}$ and $\\hat{\\theta_{u,adj}}$ , and compute the response $\\hat{r_c}$ in (2.23);\n",
    "##### 3. select lambda through CV according to 2.5.1, demoted by $\\hat{\\lambda}$\n",
    "##### 4. set $\\lambda$ in 2.27 to be $\\hat{\\lambda}$ and solve for the MAXSER portfolio $\\hat{\\omega^*_u}$ \n",
    "##### 5. Compute $\\hat{\\omega^*_f}$ and plug in the estimates from the previous steps into (2.30) to obtain the MAXSER portfolio $\\hat{\\omega_{all}}$\n",
    "##### 6. compare with benchmark portfolio "
   ]
  },
  {
   "cell_type": "markdown",
   "metadata": {},
   "source": [
    "### My approach\n",
    "#### 1. Get companies\n",
    "#### 2. Get company stock prices\n",
    "#### 3. Calculate Daily Returns, and Expected Mean Return & Covariance\n",
    "#### 4. Calibrate Parameters: Parameters for generating returns are calibrated from S&P 500 and Fama-French 3 factors \n",
    "#### 5. Use Monte Carlo Simulation with calibrated Parameters\n",
    "#### 6. Conduct subpool(optional)\n",
    "#### 7. Estimate the square of maximum sharpe ratio $\\hat{\\theta}$ 2.8\n",
    "#### 8. compute $r_c$\n",
    "#### 9. CV for select $\\hat{\\lambda}$\n",
    "#### 10. solve $\\hat{\\omega}$ for MAXSER"
   ]
  },
  {
   "cell_type": "markdown",
   "metadata": {},
   "source": [
    "### 4. Calibrate Parameters: Parameters for generating returns are calibrated from S&P 500 and Fama-French 3 factors"
   ]
  },
  {
   "cell_type": "markdown",
   "metadata": {},
   "source": [
    "Determine the risk-free rate, this paper use FF3"
   ]
  },
  {
   "cell_type": "code",
   "execution_count": 167,
   "metadata": {},
   "outputs": [],
   "source": [
    "ff3 = pd.read_csv(\"ff3_monthly_return.csv\")"
   ]
  },
  {
   "cell_type": "code",
   "execution_count": 187,
   "metadata": {},
   "outputs": [],
   "source": [
    "ff3 = np.transpose(np.array(ff3))[0]"
   ]
  }
 ],
 "metadata": {
  "kernelspec": {
   "display_name": "Python 3",
   "language": "python",
   "name": "python3"
  },
  "language_info": {
   "codemirror_mode": {
    "name": "ipython",
    "version": 3
   },
   "file_extension": ".py",
   "mimetype": "text/x-python",
   "name": "python",
   "nbconvert_exporter": "python",
   "pygments_lexer": "ipython3",
   "version": "3.8.5"
  }
 },
 "nbformat": 4,
 "nbformat_minor": 4
}
