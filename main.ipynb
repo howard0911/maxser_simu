{
 "cells": [
  {
   "cell_type": "code",
   "execution_count": 26,
   "metadata": {},
   "outputs": [],
   "source": [
    "import pandas as pd\n",
    "import numpy as np\n",
    "from sklearn.linear_model import Lasso\n",
    "from sklearn.model_selection import train_test_split\n",
    "from sklearn.metrics import mean_squared_error\n",
    "import yfinance as yf \n",
    "from datetime import datetime\n",
    "import matplotlib.pyplot as plt\n",
    "import scipy.special as sc"
   ]
  },
  {
   "cell_type": "code",
   "execution_count": 19,
   "metadata": {},
   "outputs": [],
   "source": [
    "from data_gene import GBMsimulator\n",
    "from monte_carlo import mc_simu\n",
    "#from price_extractor import select_stock, price_extract, mean_cov  \n",
    "from calculator import calculate_assets_expectedreturns, calculate_assets_covariance\n",
    "\n",
    "## implementation steps(scenario 1)\n",
    "# 1. conduct subpool (option)\n",
    "# 2. estimate the square of maximum sharpe ratio by theta_hat in 2.32, and compute the response r_c_hat in 2.10\n",
    "# 3. select lambda through CV according to 2.5.2, demoted by lambda_hat\n",
    "# 4. set lambda in 2.12 to be lambda_hat and solve for the MAAXSER portfolio omega_hat_star in 2.12\n",
    "# compare with benchmark portfolio "
   ]
  },
  {
   "cell_type": "code",
   "execution_count": 3,
   "metadata": {},
   "outputs": [],
   "source": [
    "# Parameters settings\n",
    "sigma = 0.04 # variance constraint\n",
    "T = 120 # sample size\n",
    "replica = 1000 # replication times\n",
    "# theoratical maximum SR = 1.882\n",
    "N = 50 # num of stocks\n",
    "n_stocks_available = 500"
   ]
  },
  {
   "cell_type": "code",
   "execution_count": 17,
   "metadata": {},
   "outputs": [
    {
     "data": {
      "text/plain": [
       "1    38.393252\n",
       "2     5.601863\n",
       "3    42.332582\n",
       "4    51.285713\n",
       "5    33.550075\n",
       "dtype: float64"
      ]
     },
     "execution_count": 17,
     "metadata": {},
     "output_type": "execute_result"
    }
   ],
   "source": [
    "data1 = pd.read_csv(\"./archive/individual_stocks_5yr/individual_stocks_5yr/AAL_data.csv\")\n",
    "data2 = pd.read_csv(\"./archive/individual_stocks_5yr/individual_stocks_5yr/AMD_data.csv\")\n",
    "data3 = pd.read_csv(\"./archive/individual_stocks_5yr/individual_stocks_5yr/EBAY_data.csv\")\n",
    "data4 = pd.read_csv(\"./archive/individual_stocks_5yr/individual_stocks_5yr/ES_data.csv\")\n",
    "data5 = pd.read_csv(\"./archive/individual_stocks_5yr/individual_stocks_5yr/IRM_data.csv\")\n",
    "data = pd.DataFrame({\"1\":data1[\"close\"],\"2\": data2[\"close\"],\"3\": data3[\"close\"],\"4\": data4[\"close\"],\"5\": data5[\"close\"]})"
   ]
  },
  {
   "cell_type": "code",
   "execution_count": 22,
   "metadata": {},
   "outputs": [
    {
     "data": {
      "text/html": [
       "<div>\n",
       "<style scoped>\n",
       "    .dataframe tbody tr th:only-of-type {\n",
       "        vertical-align: middle;\n",
       "    }\n",
       "\n",
       "    .dataframe tbody tr th {\n",
       "        vertical-align: top;\n",
       "    }\n",
       "\n",
       "    .dataframe thead th {\n",
       "        text-align: right;\n",
       "    }\n",
       "</style>\n",
       "<table border=\"1\" class=\"dataframe\">\n",
       "  <thead>\n",
       "    <tr style=\"text-align: right;\">\n",
       "      <th></th>\n",
       "      <th>1</th>\n",
       "      <th>2</th>\n",
       "      <th>3</th>\n",
       "      <th>4</th>\n",
       "      <th>5</th>\n",
       "    </tr>\n",
       "  </thead>\n",
       "  <tbody>\n",
       "    <tr>\n",
       "      <th>1</th>\n",
       "      <td>30257.585103</td>\n",
       "      <td>4665.363018</td>\n",
       "      <td>-10185.140621</td>\n",
       "      <td>13180.566502</td>\n",
       "      <td>4664.443308</td>\n",
       "    </tr>\n",
       "    <tr>\n",
       "      <th>2</th>\n",
       "      <td>4665.363018</td>\n",
       "      <td>3975.307083</td>\n",
       "      <td>-4245.984152</td>\n",
       "      <td>4889.665836</td>\n",
       "      <td>1777.997202</td>\n",
       "    </tr>\n",
       "    <tr>\n",
       "      <th>3</th>\n",
       "      <td>-10185.140621</td>\n",
       "      <td>-4245.984152</td>\n",
       "      <td>39924.686868</td>\n",
       "      <td>-14407.351044</td>\n",
       "      <td>-1015.700312</td>\n",
       "    </tr>\n",
       "    <tr>\n",
       "      <th>4</th>\n",
       "      <td>13180.566502</td>\n",
       "      <td>4889.665836</td>\n",
       "      <td>-14407.351044</td>\n",
       "      <td>12214.710752</td>\n",
       "      <td>4422.782404</td>\n",
       "    </tr>\n",
       "    <tr>\n",
       "      <th>5</th>\n",
       "      <td>4664.443308</td>\n",
       "      <td>1777.997202</td>\n",
       "      <td>-1015.700312</td>\n",
       "      <td>4422.782404</td>\n",
       "      <td>4814.138613</td>\n",
       "    </tr>\n",
       "  </tbody>\n",
       "</table>\n",
       "</div>"
      ],
      "text/plain": [
       "              1            2             3             4            5\n",
       "1  30257.585103  4665.363018 -10185.140621  13180.566502  4664.443308\n",
       "2   4665.363018  3975.307083  -4245.984152   4889.665836  1777.997202\n",
       "3 -10185.140621 -4245.984152  39924.686868 -14407.351044 -1015.700312\n",
       "4  13180.566502  4889.665836 -14407.351044  12214.710752  4422.782404\n",
       "5   4664.443308  1777.997202  -1015.700312   4422.782404  4814.138613"
      ]
     },
     "execution_count": 22,
     "metadata": {},
     "output_type": "execute_result"
    }
   ],
   "source": [
    "meanReturns = calculate_assets_expectedreturns(data)        \n",
    "covMatrix = calculate_assets_covariance(data)"
   ]
  },
  {
   "cell_type": "code",
   "execution_count": 31,
   "metadata": {},
   "outputs": [
    {
     "data": {
      "text/plain": [
       "74205.34372291196"
      ]
     },
     "execution_count": 31,
     "metadata": {},
     "output_type": "execute_result"
    }
   ],
   "source": [
    "temp = np.dot(np.transpose(np.array(meanReturns)), np.linalg.inv(np.array(covMatrix)))\n",
    "theta_s = np.dot(temp, np.array(meanReturns))\n",
    "theta_adj_hat = ((T-N-2)*theta_s-N)/T + (2*theta_s**(N/2)*(1+theta_s)**(-(T-2)/2))/(T*sc.betainc(N/2,(T-N)/2, theta_s/(1+theta_s)))"
   ]
  },
  {
   "cell_type": "code",
   "execution_count": 32,
   "metadata": {},
   "outputs": [
    {
     "name": "stdout",
     "output_type": "stream",
     "text": [
      "8.202563319687986\n"
     ]
    }
   ],
   "source": [
    "r_c = sigma*(1+theta_adj_hat)/np.sqrt(theta_adj_hat)\n",
    "\n",
    "print(r_c)"
   ]
  }
 ],
 "metadata": {
  "kernelspec": {
   "display_name": "Python 3",
   "language": "python",
   "name": "python3"
  },
  "language_info": {
   "codemirror_mode": {
    "name": "ipython",
    "version": 3
   },
   "file_extension": ".py",
   "mimetype": "text/x-python",
   "name": "python",
   "nbconvert_exporter": "python",
   "pygments_lexer": "ipython3",
   "version": "3.9.13"
  }
 },
 "nbformat": 4,
 "nbformat_minor": 4
}
